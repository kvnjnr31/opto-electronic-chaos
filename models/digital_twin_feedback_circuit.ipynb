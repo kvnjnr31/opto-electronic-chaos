{
 "cells": [
  {
   "cell_type": "markdown",
   "id": "13207bbe",
   "metadata": {},
   "source": [
    "## System Description\n",
    "\n",
    "This notebook simulates the updated optoelectronic feedback circuit including:\n",
    "\n",
    "- **Rf**: Feedback resistor into inverting input of op-amp\n",
    "- **Rp**: Light-sensitive resistor (photoresistor) connected to the positive rail\n",
    "- **R1 and ΔR**: Series resistors in the feedback chain; ΔR allows for tuning the gain profile\n",
    "- **Thyristor**: Acts as a nonlinear switch, turning on when voltage exceeds a threshold\n",
    "- **Laser**: Activates Rp in the feedback loop\n",
    "\n",
    "The goal is to simulate the behavior at the feedback node and identify thresholds, switching behavior, and hysteresis characteristics."
   ]
  },
  {
   "cell_type": "markdown",
   "id": "cfbbb5c6",
   "metadata": {},
   "source": [
    "## Differential Equation Setup\n",
    "\n",
    "We assume:\n",
    "- Ideal op-amp behavior (infinite gain, zero input current)\n",
    "- Thyristor conducts only when input exceeds `Vth`\n",
    "- Rp behaves as a fixed or parameterized photoresistor\n",
    "- ΔR allows for variability in feedback slope\n",
    "\n",
    "Using Kirchhoff's laws:\n",
    "- $I_1 = \\frac{V_{out}}{R_1 + \\Delta R}$\n",
    "- $I_{thy} = 0$ if $V_{out} < V_{th}$, else $G_{on}(V_{out} - V_{th})$\n",
    "- $A = \\frac{1}{R_p}$ (in parallel with high impedance at op-amp)\n",
    "- $V_r = \\frac{I_1 - I_{thy}}{A}$"
   ]
  },
  {
   "cell_type": "markdown",
   "id": "496c5e1a",
   "metadata": {},
   "source": [
    "## Simulation Output\n",
    "\n",
    "We sweep the output voltage `Vout` and calculate the voltage at the feedback node `Vr`, capturing the influence of ΔR and Rp."
   ]
  },
  {
   "cell_type": "code",
   "execution_count": null,
   "id": "c3bcd4b6",
   "metadata": {},
   "outputs": [],
   "source": [
    "import numpy as np\n",
    "import matplotlib.pyplot as plt\n",
    "\n",
    "# Parameters (Ohms)\n",
    "Rf = 1e3\n",
    "R1 = 1e3\n",
    "delta_R = 500  # Variable resistor ΔR\n",
    "Rp = 10e3\n",
    "Vth = 2.2\n",
    "G_on = 1200\n",
    "\n",
    "# Sweep Vout\n",
    "Vout_vals = np.linspace(0, 5, 500)\n",
    "Vr_vals = []\n",
    "\n",
    "for Vout in Vout_vals:\n",
    "    I1 = Vout / (R1 + delta_R)\n",
    "    Ithy = 0 if Vout < Vth else G_on * (Vout - Vth)\n",
    "    A = 1 / Rp\n",
    "    Vr = (I1 - Ithy) / A\n",
    "    Vr_vals.append(Vr)\n"
   ]
  },
  {
   "cell_type": "code",
   "execution_count": null,
   "id": "8e6a4a30",
   "metadata": {},
   "outputs": [],
   "source": [
    "plt.figure(figsize=(8, 5))\n",
    "plt.plot(Vout_vals, Vr_vals, label='Vr (Feedback Node Voltage)', color='purple')\n",
    "plt.axvline(Vth, color='orange', linestyle='--', label='Thyristor Threshold')\n",
    "plt.title('Simulated Feedback Node Voltage – Updated Circuit')\n",
    "plt.xlabel('Vout (V)')\n",
    "plt.ylabel('Vr (V)')\n",
    "plt.grid(True)\n",
    "plt.legend()\n",
    "plt.tight_layout()\n",
    "plt.show()\n"
   ]
  },
  {
   "cell_type": "markdown",
   "id": "588e4e7f",
   "metadata": {},
   "source": [
    "## Experimental Comparison\n",
    "\n",
    "To be completed: Import and overlay experimental data to validate the updated model."
   ]
  },
  {
   "cell_type": "markdown",
   "id": "4dd4d590",
   "metadata": {},
   "source": [
    "## Appendix\n",
    "\n",
    "- Circuit Diagram: ![Feedback Circuit](FeedbackCircuit.png)\n",
    "- Parameter sweeps and extended simulations can be added here."
   ]
  }
 ],
 "metadata": {},
 "nbformat": 4,
 "nbformat_minor": 5
}
